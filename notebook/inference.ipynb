{
 "cells": [
  {
   "metadata": {
    "ExecuteTime": {
     "end_time": "2024-06-01T19:03:40.345710Z",
     "start_time": "2024-06-01T19:02:58.070964Z"
    }
   },
   "cell_type": "code",
   "source": [
    "import hydra\n",
    "import torch\n",
    "import torchaudio\n",
    "\n",
    "with hydra.initialize(config_path=\"..\", version_base=None):\n",
    "    cond_cfg = hydra.compose(config_name=\"config\", overrides=['exp=train_musdb_conditional'])\n",
    "model = hydra.utils.instantiate(cond_cfg[\"model\"])\n",
    "\n",
    "ckpt = torch.load(\"../ckpts/musdb-conditional_epoch=423.ckpt\", map_location=\"cpu\")\n",
    "model.load_state_dict(ckpt['state_dict'], strict=False)\n",
    "model = model.cuda()"
   ],
   "id": "ca40ccd9af6e2d56",
   "outputs": [
    {
     "name": "stderr",
     "output_type": "stream",
     "text": [
      "/home/emilian/miniconda3/envs/componet/lib/python3.11/site-packages/diffusers/models/transformer_2d.py:20: FutureWarning: `Transformer2DModelOutput` is deprecated and will be removed in version 0.29. Importing `Transformer2DModelOutput` from `diffusers.models.transformer_2d` is deprecated and this will be removed in a future version. Please use `from diffusers.models.transformers.transformer_2d import Transformer2DModelOutput`, instead.\n",
      "  deprecate(\"Transformer2DModelOutput\", \"0.29\", deprecation_message)\n",
      "/home/emilian/miniconda3/envs/componet/lib/python3.11/site-packages/diffusers/models/transformer_2d.py:25: FutureWarning: `Transformer2DModel` is deprecated and will be removed in version 0.29. Importing `Transformer2DModel` from `diffusers.models.transformer_2d` is deprecated and this will be removed in a future version. Please use `from diffusers.models.transformers.transformer_2d import Transformer2DModel`, instead.\n",
      "  deprecate(\"Transformer2DModel\", \"0.29\", deprecation_message)\n",
      "/home/emilian/miniconda3/envs/componet/lib/python3.11/site-packages/diffusers/models/unet_2d_blocks.py:249: FutureWarning: `AutoencoderTinyBlock` is deprecated and will be removed in version 0.29. Importing `AutoencoderTinyBlock` from `diffusers.models.unet_2d_blocks` is deprecated and this will be removed in a future version. Please use `from diffusers.models.unets.unet_2d_blocks import AutoencoderTinyBlock`, instead.\n",
      "  deprecate(\"AutoencoderTinyBlock\", \"0.29\", deprecation_message)\n",
      "/home/emilian/miniconda3/envs/componet/lib/python3.11/site-packages/diffusers/models/unet_2d_blocks.py:254: FutureWarning: `UNetMidBlock2D` is deprecated and will be removed in version 0.29. Importing `UNetMidBlock2D` from `diffusers.models.unet_2d_blocks` is deprecated and this will be removed in a future version. Please use `from diffusers.models.unets.unet_2d_blocks import UNetMidBlock2D`, instead.\n",
      "  deprecate(\"UNetMidBlock2D\", \"0.29\", deprecation_message)\n",
      "/home/emilian/miniconda3/envs/componet/lib/python3.11/site-packages/diffusers/models/unet_2d_blocks.py:259: FutureWarning: `UNetMidBlock2DCrossAttn` is deprecated and will be removed in version 0.29. Importing `UNetMidBlock2DCrossAttn` from `diffusers.models.unet_2d_blocks` is deprecated and this will be removed in a future version. Please use `from diffusers.models.unets.unet_2d_blocks import UNetMidBlock2DCrossAttn`, instead.\n",
      "  deprecate(\"UNetMidBlock2DCrossAttn\", \"0.29\", deprecation_message)\n",
      "/home/emilian/miniconda3/envs/componet/lib/python3.11/site-packages/diffusers/models/unet_2d_blocks.py:264: FutureWarning: `UNetMidBlock2DSimpleCrossAttn` is deprecated and will be removed in version 0.29. Importing `UNetMidBlock2DSimpleCrossAttn` from `diffusers.models.unet_2d_blocks` is deprecated and this will be removed in a future version. Please use `from diffusers.models.unets.unet_2d_blocks import UNetMidBlock2DSimpleCrossAttn`, instead.\n",
      "  deprecate(\"UNetMidBlock2DSimpleCrossAttn\", \"0.29\", deprecation_message)\n",
      "/home/emilian/miniconda3/envs/componet/lib/python3.11/site-packages/diffusers/models/unet_2d_blocks.py:269: FutureWarning: `AttnDownBlock2D` is deprecated and will be removed in version 0.29. Importing `AttnDownBlock2D` from `diffusers.models.unet_2d_blocks` is deprecated and this will be removed in a future version. Please use `from diffusers.models.unets.unet_2d_blocks import AttnDownBlock2D`, instead.\n",
      "  deprecate(\"AttnDownBlock2D\", \"0.29\", deprecation_message)\n",
      "/home/emilian/miniconda3/envs/componet/lib/python3.11/site-packages/diffusers/models/unet_2d_blocks.py:274: FutureWarning: `CrossAttnDownBlock2D` is deprecated and will be removed in version 0.29. Importing `AttnDownBlock2D` from `diffusers.models.unet_2d_blocks` is deprecated and this will be removed in a future version. Please use `from diffusers.models.unets.unet_2d_blocks import CrossAttnDownBlock2D`, instead.\n",
      "  deprecate(\"CrossAttnDownBlock2D\", \"0.29\", deprecation_message)\n",
      "/home/emilian/miniconda3/envs/componet/lib/python3.11/site-packages/diffusers/models/unet_2d_blocks.py:279: FutureWarning: `DownBlock2D` is deprecated and will be removed in version 0.29. Importing `DownBlock2D` from `diffusers.models.unet_2d_blocks` is deprecated and this will be removed in a future version. Please use `from diffusers.models.unets.unet_2d_blocks import DownBlock2D`, instead.\n",
      "  deprecate(\"DownBlock2D\", \"0.29\", deprecation_message)\n",
      "/home/emilian/miniconda3/envs/componet/lib/python3.11/site-packages/diffusers/models/unet_2d_blocks.py:284: FutureWarning: `AttnDownEncoderBlock2D` is deprecated and will be removed in version 0.29. Importing `AttnDownEncoderBlock2D` from `diffusers.models.unet_2d_blocks` is deprecated and this will be removed in a future version. Please use `from diffusers.models.unets.unet_2d_blocks import AttnDownEncoderBlock2D`, instead.\n",
      "  deprecate(\"AttnDownEncoderBlock2D\", \"0.29\", deprecation_message)\n",
      "/home/emilian/miniconda3/envs/componet/lib/python3.11/site-packages/diffusers/models/unet_2d_blocks.py:289: FutureWarning: `AttnSkipDownBlock2D` is deprecated and will be removed in version 0.29. Importing `AttnSkipDownBlock2D` from `diffusers.models.unet_2d_blocks` is deprecated and this will be removed in a future version. Please use `from diffusers.models.unets.unet_2d_blocks import AttnSkipDownBlock2D`, instead.\n",
      "  deprecate(\"AttnSkipDownBlock2D\", \"0.29\", deprecation_message)\n",
      "/home/emilian/miniconda3/envs/componet/lib/python3.11/site-packages/diffusers/models/unet_2d_blocks.py:294: FutureWarning: `SkipDownBlock2D` is deprecated and will be removed in version 0.29. Importing `SkipDownBlock2D` from `diffusers.models.unet_2d_blocks` is deprecated and this will be removed in a future version. Please use `from diffusers.models.unets.unet_2d_blocks import SkipDownBlock2D`, instead.\n",
      "  deprecate(\"SkipDownBlock2D\", \"0.29\", deprecation_message)\n",
      "/home/emilian/miniconda3/envs/componet/lib/python3.11/site-packages/diffusers/models/unet_2d_blocks.py:299: FutureWarning: `ResnetDownsampleBlock2D` is deprecated and will be removed in version 0.29. Importing `ResnetDownsampleBlock2D` from `diffusers.models.unet_2d_blocks` is deprecated and this will be removed in a future version. Please use `from diffusers.models.unets.unet_2d_blocks import ResnetDownsampleBlock2D`, instead.\n",
      "  deprecate(\"ResnetDownsampleBlock2D\", \"0.29\", deprecation_message)\n",
      "/home/emilian/miniconda3/envs/componet/lib/python3.11/site-packages/diffusers/models/unet_2d_blocks.py:304: FutureWarning: `SimpleCrossAttnDownBlock2D` is deprecated and will be removed in version 0.29. Importing `SimpleCrossAttnDownBlock2D` from `diffusers.models.unet_2d_blocks` is deprecated and this will be removed in a future version. Please use `from diffusers.models.unets.unet_2d_blocks import SimpleCrossAttnDownBlock2D`, instead.\n",
      "  deprecate(\"SimpleCrossAttnDownBlock2D\", \"0.29\", deprecation_message)\n",
      "/home/emilian/miniconda3/envs/componet/lib/python3.11/site-packages/diffusers/models/unet_2d_blocks.py:309: FutureWarning: `KDownBlock2D` is deprecated and will be removed in version 0.29. Importing `KDownBlock2D` from `diffusers.models.unet_2d_blocks` is deprecated and this will be removed in a future version. Please use `from diffusers.models.unets.unet_2d_blocks import KDownBlock2D`, instead.\n",
      "  deprecate(\"KDownBlock2D\", \"0.29\", deprecation_message)\n",
      "/home/emilian/miniconda3/envs/componet/lib/python3.11/site-packages/diffusers/models/unet_2d_blocks.py:314: FutureWarning: `KCrossAttnDownBlock2D` is deprecated and will be removed in version 0.29. Importing `KCrossAttnDownBlock2D` from `diffusers.models.unet_2d_blocks` is deprecated and this will be removed in a future version. Please use `from diffusers.models.unets.unet_2d_blocks import KCrossAttnDownBlock2D`, instead.\n",
      "  deprecate(\"KCrossAttnDownBlock2D\", \"0.29\", deprecation_message)\n",
      "/home/emilian/miniconda3/envs/componet/lib/python3.11/site-packages/diffusers/models/unet_2d_blocks.py:319: FutureWarning: `AttnUpBlock2D` is deprecated and will be removed in version 0.29. Importing `AttnUpBlock2D` from `diffusers.models.unet_2d_blocks` is deprecated and this will be removed in a future version. Please use `from diffusers.models.unets.unet_2d_blocks import AttnUpBlock2D`, instead.\n",
      "  deprecate(\"AttnUpBlock2D\", \"0.29\", deprecation_message)\n",
      "/home/emilian/miniconda3/envs/componet/lib/python3.11/site-packages/diffusers/models/unet_2d_blocks.py:324: FutureWarning: `CrossAttnUpBlock2D` is deprecated and will be removed in version 0.29. Importing `CrossAttnUpBlock2D` from `diffusers.models.unet_2d_blocks` is deprecated and this will be removed in a future version. Please use `from diffusers.models.unets.unet_2d_blocks import CrossAttnUpBlock2D`, instead.\n",
      "  deprecate(\"CrossAttnUpBlock2D\", \"0.29\", deprecation_message)\n",
      "/home/emilian/miniconda3/envs/componet/lib/python3.11/site-packages/diffusers/models/unet_2d_blocks.py:329: FutureWarning: `UpBlock2D` is deprecated and will be removed in version 0.29. Importing `UpBlock2D` from `diffusers.models.unet_2d_blocks` is deprecated and this will be removed in a future version. Please use `from diffusers.models.unets.unet_2d_blocks import UpBlock2D`, instead.\n",
      "  deprecate(\"UpBlock2D\", \"0.29\", deprecation_message)\n",
      "/home/emilian/miniconda3/envs/componet/lib/python3.11/site-packages/diffusers/models/unet_2d_blocks.py:334: FutureWarning: `UpDecoderBlock2D` is deprecated and will be removed in version 0.29. Importing `UpDecoderBlock2D` from `diffusers.models.unet_2d_blocks` is deprecated and this will be removed in a future version. Please use `from diffusers.models.unets.unet_2d_blocks import UpDecoderBlock2D`, instead.\n",
      "  deprecate(\"UpDecoderBlock2D\", \"0.29\", deprecation_message)\n",
      "/home/emilian/miniconda3/envs/componet/lib/python3.11/site-packages/diffusers/models/unet_2d_blocks.py:339: FutureWarning: `AttnUpDecoderBlock2D` is deprecated and will be removed in version 0.29. Importing `AttnUpDecoderBlock2D` from `diffusers.models.unet_2d_blocks` is deprecated and this will be removed in a future version. Please use `from diffusers.models.unets.unet_2d_blocks import AttnUpDecoderBlock2D`, instead.\n",
      "  deprecate(\"AttnUpDecoderBlock2D\", \"0.29\", deprecation_message)\n",
      "/home/emilian/miniconda3/envs/componet/lib/python3.11/site-packages/diffusers/models/unet_2d_blocks.py:344: FutureWarning: `AttnSkipUpBlock2D` is deprecated and will be removed in version 0.29. Importing `AttnSkipUpBlock2D` from `diffusers.models.unet_2d_blocks` is deprecated and this will be removed in a future version. Please use `from diffusers.models.unets.unet_2d_blocks import AttnSkipUpBlock2D`, instead.\n",
      "  deprecate(\"AttnSkipUpBlock2D\", \"0.29\", deprecation_message)\n",
      "/home/emilian/miniconda3/envs/componet/lib/python3.11/site-packages/diffusers/models/unet_2d_blocks.py:349: FutureWarning: `SkipUpBlock2D` is deprecated and will be removed in version 0.29. Importing `SkipUpBlock2D` from `diffusers.models.unet_2d_blocks` is deprecated and this will be removed in a future version. Please use `from diffusers.models.unets.unet_2d_blocks import SkipUpBlock2D`, instead.\n",
      "  deprecate(\"SkipUpBlock2D\", \"0.29\", deprecation_message)\n",
      "/home/emilian/miniconda3/envs/componet/lib/python3.11/site-packages/diffusers/models/unet_2d_blocks.py:354: FutureWarning: `ResnetUpsampleBlock2D` is deprecated and will be removed in version 0.29. Importing `ResnetUpsampleBlock2D` from `diffusers.models.unet_2d_blocks` is deprecated and this will be removed in a future version. Please use `from diffusers.models.unets.unet_2d_blocks import ResnetUpsampleBlock2D`, instead.\n",
      "  deprecate(\"ResnetUpsampleBlock2D\", \"0.29\", deprecation_message)\n",
      "/home/emilian/miniconda3/envs/componet/lib/python3.11/site-packages/diffusers/models/unet_2d_blocks.py:359: FutureWarning: `SimpleCrossAttnUpBlock2D` is deprecated and will be removed in version 0.29. Importing `SimpleCrossAttnUpBlock2D` from `diffusers.models.unet_2d_blocks` is deprecated and this will be removed in a future version. Please use `from diffusers.models.unets.unet_2d_blocks import SimpleCrossAttnUpBlock2D`, instead.\n",
      "  deprecate(\"SimpleCrossAttnUpBlock2D\", \"0.29\", deprecation_message)\n",
      "/home/emilian/miniconda3/envs/componet/lib/python3.11/site-packages/diffusers/models/unet_2d_blocks.py:364: FutureWarning: `KUpBlock2D` is deprecated and will be removed in version 0.29. Importing `KUpBlock2D` from `diffusers.models.unet_2d_blocks` is deprecated and this will be removed in a future version. Please use `from diffusers.models.unets.unet_2d_blocks import KUpBlock2D`, instead.\n",
      "  deprecate(\"KUpBlock2D\", \"0.29\", deprecation_message)\n",
      "/home/emilian/miniconda3/envs/componet/lib/python3.11/site-packages/diffusers/models/unet_2d_blocks.py:369: FutureWarning: `KCrossAttnUpBlock2D` is deprecated and will be removed in version 0.29. Importing `KCrossAttnUpBlock2D` from `diffusers.models.unet_2d_blocks` is deprecated and this will be removed in a future version. Please use `from diffusers.models.unets.unet_2d_blocks import KCrossAttnUpBlock2D`, instead.\n",
      "  deprecate(\"KCrossAttnUpBlock2D\", \"0.29\", deprecation_message)\n",
      "/home/emilian/miniconda3/envs/componet/lib/python3.11/site-packages/diffusers/models/unet_2d_blocks.py:375: FutureWarning: `KAttentionBlock` is deprecated and will be removed in version 0.29. Importing `KAttentionBlock` from `diffusers.models.unet_2d_blocks` is deprecated and this will be removed in a future version. Please use `from diffusers.models.unets.unet_2d_blocks import KAttentionBlock`, instead.\n",
      "  deprecate(\"KAttentionBlock\", \"0.29\", deprecation_message)\n",
      "/home/emilian/miniconda3/envs/componet/lib/python3.11/site-packages/diffusers/models/unet_2d_condition.py:20: FutureWarning: `UNet2DConditionOutput` is deprecated and will be removed in version 0.29. Importing `UNet2DConditionOutput` from `diffusers.models.unet_2d_condition` is deprecated and this will be removed in a future version. Please use `from diffusers.models.unets.unet_2d_condition import UNet2DConditionOutput`, instead.\n",
      "  deprecate(\"UNet2DConditionOutput\", \"0.29\", deprecation_message)\n",
      "/home/emilian/miniconda3/envs/componet/lib/python3.11/site-packages/diffusers/models/unet_2d_condition.py:25: FutureWarning: `UNet2DConditionModel` is deprecated and will be removed in version 0.29. Importing `UNet2DConditionModel` from `diffusers.models.unet_2d_condition` is deprecated and this will be removed in a future version. Please use `from diffusers.models.unets.unet_2d_condition import UNet2DConditionModel`, instead.\n",
      "  deprecate(\"UNet2DConditionModel\", \"0.29\", deprecation_message)\n",
      "/home/emilian/miniconda3/envs/componet/lib/python3.11/site-packages/huggingface_hub/file_download.py:1132: FutureWarning: `resume_download` is deprecated and will be removed in version 1.0.0. Downloads always resume when possible. If you want to force a new download, use `force_download=True`.\n",
      "  warnings.warn(\n"
     ]
    }
   ],
   "execution_count": 1
  },
  {
   "metadata": {
    "ExecuteTime": {
     "end_time": "2024-06-01T19:27:19.524604Z",
     "start_time": "2024-06-01T19:26:57.931626Z"
    }
   },
   "cell_type": "code",
   "source": [
    "y, sr = torchaudio.load(\"in.wav\") # load you audio input\n",
    "assert sr == 16000\n",
    "\n",
    "y = torch.clip(y, -1, 1)\n",
    "y_melspec = model.stft.cpu().mel_spectrogram(y.cpu())[0]\n",
    "y_latents = model.vae.encode(y_melspec.cuda().permute(0, 2, 1).unsqueeze(1)).latent_dist.sample()\n",
    "y_latents = y_latents * model.vae.config.scaling_factor\n",
    "\n",
    "samples = model.pipeline([\"in: other_1, vocals_1; out: vocals_1\"], num_inference_steps=150,\n",
    "         guidance_scale=1.0, audio_length_in_s=10.23, controlnet_cond=y_latents.cuda()).audios\n",
    "torchaudio.save(f\"out.wav\", torch.tensor(samples[0]).unsqueeze(0), sample_rate=sr)"
   ],
   "id": "initial_id",
   "outputs": [
    {
     "data": {
      "text/plain": [
       "  0%|          | 0/150 [00:00<?, ?it/s]"
      ],
      "application/vnd.jupyter.widget-view+json": {
       "version_major": 2,
       "version_minor": 0,
       "model_id": "289024934cda46c98bff294ebf35cb4f"
      }
     },
     "metadata": {},
     "output_type": "display_data"
    }
   ],
   "execution_count": 5
  },
  {
   "metadata": {},
   "cell_type": "code",
   "outputs": [],
   "execution_count": null,
   "source": "",
   "id": "e3e6b85d1e26013"
  }
 ],
 "metadata": {
  "kernelspec": {
   "display_name": "Python 3",
   "language": "python",
   "name": "python3"
  },
  "language_info": {
   "codemirror_mode": {
    "name": "ipython",
    "version": 2
   },
   "file_extension": ".py",
   "mimetype": "text/x-python",
   "name": "python",
   "nbconvert_exporter": "python",
   "pygments_lexer": "ipython2",
   "version": "2.7.6"
  }
 },
 "nbformat": 4,
 "nbformat_minor": 5
}
