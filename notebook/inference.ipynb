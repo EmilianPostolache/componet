{
 "cells": [
  {
   "metadata": {},
   "cell_type": "code",
   "source": [
    "import hydra\n",
    "import torch\n",
    "import torchaudio\n",
    "\n",
    "exp_cfg = \"train_musdb_conditional\"\n",
    "ckpt_path = \"../ckpts/musdb-conditional_epoch=423.ckpt\"\n",
    "\n",
    "with hydra.initialize(config_path=\"..\", version_base=None):\n",
    "    cond_cfg = hydra.compose(config_name=\"config\", overrides=[f'exp={exp_cfg}'])\n",
    "model = hydra.utils.instantiate(cond_cfg[\"model\"])\n",
    "\n",
    "ckpt = torch.load(ckpt_path, map_location=\"cpu\")\n",
    "model.load_state_dict(ckpt['state_dict'], strict=False)\n",
    "model = model.cuda()"
   ],
   "id": "ca40ccd9af6e2d56",
   "outputs": [],
   "execution_count": 2
  },
  {
   "metadata": {},
   "cell_type": "code",
   "source": [
    "y, sr = torchaudio.load(\"in.wav\") # load you audio input\n",
    "prompt = \"in: other_1, vocals_1; out: vocals_1\"\n",
    "\n",
    "assert sr == 16000\n",
    "\n",
    "y = torch.clip(y, -1, 1)\n",
    "y_melspec = model.stft.cpu().mel_spectrogram(y.cpu())[0]\n",
    "y_latents = model.vae.encode(y_melspec.cuda().permute(0, 2, 1).unsqueeze(1)).latent_dist.sample()\n",
    "y_latents = y_latents * model.vae.config.scaling_factor\n",
    "\n",
    "samples = model.pipeline([prompt], num_inference_steps=150,\n",
    "         guidance_scale=1.0, audio_length_in_s=10.23, controlnet_cond=y_latents.cuda()).audios\n",
    "torchaudio.save(f\"out.wav\", torch.tensor(samples[0]).unsqueeze(0), sample_rate=sr)"
   ],
   "id": "initial_id",
   "outputs": [],
   "execution_count": null
  }
 ],
 "metadata": {
  "kernelspec": {
   "display_name": "Python 3",
   "language": "python",
   "name": "python3"
  },
  "language_info": {
   "codemirror_mode": {
    "name": "ipython",
    "version": 2
   },
   "file_extension": ".py",
   "mimetype": "text/x-python",
   "name": "python",
   "nbconvert_exporter": "python",
   "pygments_lexer": "ipython2",
   "version": "2.7.6"
  }
 },
 "nbformat": 4,
 "nbformat_minor": 5
}
